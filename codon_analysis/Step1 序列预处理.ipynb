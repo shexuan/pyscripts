{
 "cells": [
  {
   "cell_type": "code",
   "execution_count": 1,
   "metadata": {},
   "outputs": [],
   "source": [
    "import pandas as pd\n",
    "import numpy as np\n",
    "import os\n",
    "from collections import defaultdict"
   ]
  },
  {
   "cell_type": "code",
   "execution_count": 13,
   "metadata": {},
   "outputs": [],
   "source": [
    "indir = 'raw_data'\n",
    "outdir = 'filtered_data'\n",
    "if not os.path.exists(outdir):\n",
    "    os.makedirs(outdir)\n",
    "    \n",
    "infiles = sorted([os.path.join('raw_data', f) for f in os.listdir('raw_data') \n",
    "                      if f.endswith('.txt')])\n",
    "outfiles = sorted([os.path.join('filtered_data', f) for f in os.listdir('raw_data') \n",
    "                       if f.endswith('.txt')])\n",
    "species = sorted([sp.split('.')[0] for sp in os.listdir('raw_data') \n",
    "                      if sp.endswith('.txt')])"
   ]
  },
  {
   "cell_type": "code",
   "execution_count": 5,
   "metadata": {},
   "outputs": [
    {
     "data": {
      "text/plain": [
       "['Miscanthus_floridulus.txt',\n",
       " 'Miscanthus_sacchariflorus.txt',\n",
       " 'Miscanthus_transmorrisonensis.txt',\n",
       " 'Saccharum_spontaneum.txt',\n",
       " 'Miscanthus_giganteus.txt',\n",
       " 'Miscanthus_sinensis.txt',\n",
       " 'Sorghum_bicolor.txt',\n",
       " '.ipynb_checkpoints']"
      ]
     },
     "execution_count": 5,
     "metadata": {},
     "output_type": "execute_result"
    }
   ],
   "source": [
    "os.listdir(indir)"
   ]
  },
  {
   "cell_type": "code",
   "execution_count": 6,
   "metadata": {},
   "outputs": [],
   "source": [
    "def fitler_by_start_end_codon(seq):\n",
    "    \"\"\"以ATG起始，并以TAA，TAG或TGA结尾的序列，序列中间没有终止密码子.\n",
    "    \"\"\"\n",
    "    start_codon = 'ATG'\n",
    "    end_codons = ['TAA', 'TAG', 'TGA']\n",
    "    seq = [seq[i:i+3] for i in range(0, len(seq), 3)]\n",
    "    inter_terminal = list(set(end_codons) & set(seq[1:-1]))\n",
    "    if (seq[0] != start_codon) or (seq[-1] not in end_codons) or (len(inter_terminal)!=0):\n",
    "        return False\n",
    "    else:\n",
    "        return True\n",
    "    \n",
    "    \n",
    "def filter_by_base_num(seq):\n",
    "    \"\"\"序列长度为3的倍数.\n",
    "    \"\"\"\n",
    "    if len(seq)%3 != 0:\n",
    "        return False\n",
    "    else:\n",
    "        return True\n",
    "\n",
    "\n",
    "def filter_by_length(seq):\n",
    "    \"\"\"序列长度>=300bp\n",
    "    \"\"\"\n",
    "    if len(seq)<300:\n",
    "        return False\n",
    "    else:\n",
    "        return True\n",
    "\n",
    "    \n",
    "    \n",
    "def read_fasta(infile):\n",
    "    \"\"\"读取数据\n",
    "    \"\"\"\n",
    "    cds = defaultdict()\n",
    "    with open(infile) as f:\n",
    "        for line in f:\n",
    "            if line.startswith('>'):\n",
    "                name = line.strip()\n",
    "                cds[name] = ''\n",
    "            else:\n",
    "                cds[name] += line.strip()\n",
    "    return cds\n",
    "\n",
    "\n",
    "def write_fasta(cds, outfile):\n",
    "    \"\"\"将过滤得到的序列数据写入文件中,并统计GC含量.\n",
    "    \"\"\"\n",
    "    pos1 = defaultdict(int)\n",
    "    pos2 = defaultdict(int)\n",
    "    pos3 = defaultdict(int)\n",
    "    L_aa = 0\n",
    "    cds_num_before = len(cds)\n",
    "    cds_num_after = 0\n",
    "    with open(outfile, 'wt', encoding='utf-8') as f:\n",
    "        for name, seq in cds.items():\n",
    "            if fitler_by_start_end_codon(seq) and filter_by_base_num(seq) and \\\n",
    "                filter_by_length(seq):\n",
    "                f.write(name+'\\n')\n",
    "                f.write(seq+'\\n')\n",
    "                seq = [seq[i:i+3] for i in range(0, len(seq), 3)]\n",
    "                L_aa += len(seq)\n",
    "                cds_num_after += 1\n",
    "                # 起始密码子和终止密码子不参与GC计算？\n",
    "                for codon in seq:\n",
    "                    pos1[codon[0]] += 1\n",
    "                    pos2[codon[1]] += 1\n",
    "                    pos3[codon[2]] += 1\n",
    "    \n",
    "    GC1 = (pos1['G']+pos1['C'])/(pos1['G']+pos1['C']+pos1['A']+pos1['T'])\n",
    "    GC2 = (pos2['G']+pos2['C'])/(pos2['G']+pos2['C']+pos2['A']+pos2['T'])\n",
    "    GC3 = (pos3['G']+pos3['C'])/(pos3['G']+pos3['C']+pos3['A']+pos3['T'])\n",
    "    \n",
    "    return GC1, GC2, GC3, L_aa, cds_num_before, cds_num_after\n",
    "            \n",
    "            \n",
    "def run(infile, outfile):\n",
    "    print('\\nProcessing {} ... ...'.format(infile))\n",
    "    cds = read_fasta(infile)\n",
    "    GC1, GC2, GC3, L_aa, cds_num_before, cds_num_after = write_fasta(cds, outfile)\n",
    "    GC123 = (GC1+GC2+GC3)/3\n",
    "    print('CDS numbers before filter: ', cds_num_before)\n",
    "    print('CDS numbers after filter: ', cds_num_after)\n",
    "    print('Total amino acid numbers: ', L_aa)\n",
    "    print('GC1= {0}, GC2= {1}, GC123= {2}, GC3= {3}'.format(\n",
    "        round(GC1,3), round(GC2,3), round(GC123,3 ), round(GC3,3)))\n",
    "    return L_aa, cds_num_before, cds_num_after, \\\n",
    "        round(GC1,3), round(GC2,3), round(GC3,3), round(GC123, 3)"
   ]
  },
  {
   "cell_type": "code",
   "execution_count": 7,
   "metadata": {},
   "outputs": [],
   "source": []
  },
  {
   "cell_type": "code",
   "execution_count": 8,
   "metadata": {},
   "outputs": [
    {
     "name": "stdout",
     "output_type": "stream",
     "text": [
      "\n",
      "Processing raw_data/Miscanthus_floridulus.txt ... ...\n",
      "CDS numbers before filter:  106\n",
      "CDS numbers after filter:  65\n",
      "Total amino acid numbers:  19611\n",
      "GC1= 0.473, GC2= 0.397, GC123= 0.394, GC3= 0.312\n",
      "\n",
      "Processing raw_data/Miscanthus_sacchariflorus.txt ... ...\n",
      "CDS numbers before filter:  122\n",
      "CDS numbers after filter:  64\n",
      "Total amino acid numbers:  19508\n",
      "GC1= 0.472, GC2= 0.396, GC123= 0.393, GC3= 0.311\n",
      "\n",
      "Processing raw_data/Miscanthus_transmorrisonensis.txt ... ...\n",
      "CDS numbers before filter:  106\n",
      "CDS numbers after filter:  64\n",
      "Total amino acid numbers:  19486\n",
      "GC1= 0.473, GC2= 0.397, GC123= 0.394, GC3= 0.311\n",
      "\n",
      "Processing raw_data/Saccharum_spontaneum.txt ... ...\n",
      "CDS numbers before filter:  76\n",
      "CDS numbers after filter:  48\n",
      "Total amino acid numbers:  16553\n",
      "GC1= 0.477, GC2= 0.395, GC123= 0.391, GC3= 0.302\n",
      "\n",
      "Processing raw_data/Miscanthus_giganteus.txt ... ...\n",
      "CDS numbers before filter:  106\n",
      "CDS numbers after filter:  64\n",
      "Total amino acid numbers:  19469\n",
      "GC1= 0.474, GC2= 0.397, GC123= 0.394, GC3= 0.311\n",
      "\n",
      "Processing raw_data/Miscanthus_sinensis.txt ... ...\n",
      "CDS numbers before filter:  122\n",
      "CDS numbers after filter:  64\n",
      "Total amino acid numbers:  19506\n",
      "GC1= 0.472, GC2= 0.396, GC123= 0.393, GC3= 0.311\n",
      "\n",
      "Processing raw_data/Sorghum_bicolor.txt ... ...\n",
      "CDS numbers before filter:  84\n",
      "CDS numbers after filter:  52\n",
      "Total amino acid numbers:  17490\n",
      "GC1= 0.476, GC2= 0.393, GC123= 0.39, GC3= 0.303\n"
     ]
    }
   ],
   "source": [
    "results = {}\n",
    "for infile, outfile, species in zip(infiles, outfiles, species):\n",
    "    results[species] = run(infile, outfile)"
   ]
  },
  {
   "cell_type": "code",
   "execution_count": 9,
   "metadata": {},
   "outputs": [
    {
     "data": {
      "text/plain": [
       "{'Miscanthus_floridulus': (19611, 106, 65, 0.473, 0.397, 0.312, 0.394),\n",
       " 'Miscanthus_sacchariflorus': (19508, 122, 64, 0.472, 0.396, 0.311, 0.393),\n",
       " 'Miscanthus_transmorrisonensis': (19486, 106, 64, 0.473, 0.397, 0.311, 0.394),\n",
       " 'Saccharum_spontaneum': (16553, 76, 48, 0.477, 0.395, 0.302, 0.391),\n",
       " 'Miscanthus_giganteus': (19469, 106, 64, 0.474, 0.397, 0.311, 0.394),\n",
       " 'Miscanthus_sinensis': (19506, 122, 64, 0.472, 0.396, 0.311, 0.393),\n",
       " 'Sorghum_bicolor': (17490, 84, 52, 0.476, 0.393, 0.303, 0.39)}"
      ]
     },
     "execution_count": 9,
     "metadata": {},
     "output_type": "execute_result"
    }
   ],
   "source": [
    "results"
   ]
  },
  {
   "cell_type": "code",
   "execution_count": 10,
   "metadata": {},
   "outputs": [
    {
     "data": {
      "text/html": [
       "<div>\n",
       "<style scoped>\n",
       "    .dataframe tbody tr th:only-of-type {\n",
       "        vertical-align: middle;\n",
       "    }\n",
       "\n",
       "    .dataframe tbody tr th {\n",
       "        vertical-align: top;\n",
       "    }\n",
       "\n",
       "    .dataframe thead th {\n",
       "        text-align: right;\n",
       "    }\n",
       "</style>\n",
       "<table border=\"1\" class=\"dataframe\">\n",
       "  <thead>\n",
       "    <tr style=\"text-align: right;\">\n",
       "      <th></th>\n",
       "      <th>Miscanthus floridulus</th>\n",
       "      <th>Miscanthus giganteus</th>\n",
       "      <th>Miscanthus sacchariflorus</th>\n",
       "      <th>Miscanthus sinensis</th>\n",
       "      <th>Miscanthus transmorrisonensis</th>\n",
       "      <th>Saccharum spontaneum</th>\n",
       "      <th>Sorghum bicolor</th>\n",
       "    </tr>\n",
       "  </thead>\n",
       "  <tbody>\n",
       "    <tr>\n",
       "      <th>L_aa</th>\n",
       "      <td>19611.000</td>\n",
       "      <td>19469.000</td>\n",
       "      <td>19508.000</td>\n",
       "      <td>19506.000</td>\n",
       "      <td>19486.000</td>\n",
       "      <td>16553.000</td>\n",
       "      <td>17490.000</td>\n",
       "    </tr>\n",
       "    <tr>\n",
       "      <th>cds_num_before_filter</th>\n",
       "      <td>106.000</td>\n",
       "      <td>106.000</td>\n",
       "      <td>122.000</td>\n",
       "      <td>122.000</td>\n",
       "      <td>106.000</td>\n",
       "      <td>76.000</td>\n",
       "      <td>84.000</td>\n",
       "    </tr>\n",
       "    <tr>\n",
       "      <th>cds_num_after_filter</th>\n",
       "      <td>65.000</td>\n",
       "      <td>64.000</td>\n",
       "      <td>64.000</td>\n",
       "      <td>64.000</td>\n",
       "      <td>64.000</td>\n",
       "      <td>48.000</td>\n",
       "      <td>52.000</td>\n",
       "    </tr>\n",
       "    <tr>\n",
       "      <th>GC1</th>\n",
       "      <td>0.473</td>\n",
       "      <td>0.474</td>\n",
       "      <td>0.472</td>\n",
       "      <td>0.472</td>\n",
       "      <td>0.473</td>\n",
       "      <td>0.477</td>\n",
       "      <td>0.476</td>\n",
       "    </tr>\n",
       "    <tr>\n",
       "      <th>GC2</th>\n",
       "      <td>0.397</td>\n",
       "      <td>0.397</td>\n",
       "      <td>0.396</td>\n",
       "      <td>0.396</td>\n",
       "      <td>0.397</td>\n",
       "      <td>0.395</td>\n",
       "      <td>0.393</td>\n",
       "    </tr>\n",
       "    <tr>\n",
       "      <th>GC3</th>\n",
       "      <td>0.312</td>\n",
       "      <td>0.311</td>\n",
       "      <td>0.311</td>\n",
       "      <td>0.311</td>\n",
       "      <td>0.311</td>\n",
       "      <td>0.302</td>\n",
       "      <td>0.303</td>\n",
       "    </tr>\n",
       "    <tr>\n",
       "      <th>GC123</th>\n",
       "      <td>0.394</td>\n",
       "      <td>0.394</td>\n",
       "      <td>0.393</td>\n",
       "      <td>0.393</td>\n",
       "      <td>0.394</td>\n",
       "      <td>0.391</td>\n",
       "      <td>0.390</td>\n",
       "    </tr>\n",
       "  </tbody>\n",
       "</table>\n",
       "</div>"
      ],
      "text/plain": [
       "                       Miscanthus floridulus  Miscanthus giganteus  \\\n",
       "L_aa                               19611.000             19469.000   \n",
       "cds_num_before_filter                106.000               106.000   \n",
       "cds_num_after_filter                  65.000                64.000   \n",
       "GC1                                    0.473                 0.474   \n",
       "GC2                                    0.397                 0.397   \n",
       "GC3                                    0.312                 0.311   \n",
       "GC123                                  0.394                 0.394   \n",
       "\n",
       "                       Miscanthus sacchariflorus  Miscanthus sinensis  \\\n",
       "L_aa                                   19508.000            19506.000   \n",
       "cds_num_before_filter                    122.000              122.000   \n",
       "cds_num_after_filter                      64.000               64.000   \n",
       "GC1                                        0.472                0.472   \n",
       "GC2                                        0.396                0.396   \n",
       "GC3                                        0.311                0.311   \n",
       "GC123                                      0.393                0.393   \n",
       "\n",
       "                       Miscanthus transmorrisonensis  Saccharum spontaneum  \\\n",
       "L_aa                                       19486.000             16553.000   \n",
       "cds_num_before_filter                        106.000                76.000   \n",
       "cds_num_after_filter                          64.000                48.000   \n",
       "GC1                                            0.473                 0.477   \n",
       "GC2                                            0.397                 0.395   \n",
       "GC3                                            0.311                 0.302   \n",
       "GC123                                          0.394                 0.391   \n",
       "\n",
       "                       Sorghum bicolor  \n",
       "L_aa                         17490.000  \n",
       "cds_num_before_filter           84.000  \n",
       "cds_num_after_filter            52.000  \n",
       "GC1                              0.476  \n",
       "GC2                              0.393  \n",
       "GC3                              0.303  \n",
       "GC123                            0.390  "
      ]
     },
     "execution_count": 10,
     "metadata": {},
     "output_type": "execute_result"
    }
   ],
   "source": [
    "df = pd.DataFrame(results)\n",
    "df.index = ['L_aa','cds_num_before_filter','cds_num_after_filter','GC1','GC2','GC3','GC123']\n",
    "columns = sorted(df.columns)\n",
    "df = df[columns]\n",
    "df.columns = [' '.join(c.split('_')) for c in df.columns]\n",
    "df"
   ]
  },
  {
   "cell_type": "code",
   "execution_count": 12,
   "metadata": {},
   "outputs": [],
   "source": [
    "df.to_excel('step1_results_GC.xlsx', header=True, index=True, encoding='utf-8')"
   ]
  },
  {
   "cell_type": "code",
   "execution_count": 117,
   "metadata": {},
   "outputs": [
    {
     "data": {
      "text/plain": [
       "'/data/shexuan/sjj/new_paper'"
      ]
     },
     "execution_count": 117,
     "metadata": {},
     "output_type": "execute_result"
    }
   ],
   "source": [
    "pwd"
   ]
  },
  {
   "cell_type": "code",
   "execution_count": 135,
   "metadata": {},
   "outputs": [
    {
     "name": "stdout",
     "output_type": "stream",
     "text": [
      "/data/shexuan/sjj/new_paper/filtered_data/Miscanthus_floridulus.txt\n",
      "/data/shexuan/sjj/new_paper/filtered_data/Miscanthus_sacchariflorus.txt\n",
      "/data/shexuan/sjj/new_paper/filtered_data/Miscanthus_transmorrisonensis.txt\n",
      "/data/shexuan/sjj/new_paper/filtered_data/Saccharum_spontaneum.txt\n",
      "/data/shexuan/sjj/new_paper/filtered_data/Miscanthus_giganteus.txt\n",
      "/data/shexuan/sjj/new_paper/filtered_data/Miscanthus_sinensis.txt\n",
      "/data/shexuan/sjj/new_paper/filtered_data/Sorghum_bicolor.txt\n"
     ]
    }
   ],
   "source": [
    "wd = '/data/shexuan/sjj/new_paper/filtered_data/'\n",
    "fastas = [os.path.join(wd, f) for f in os.listdir('filtered_data') if f.endswith('txt')]\n",
    "for i in fastas:\n",
    "    print(i)"
   ]
  },
  {
   "cell_type": "code",
   "execution_count": null,
   "metadata": {},
   "outputs": [],
   "source": []
  },
  {
   "cell_type": "code",
   "execution_count": null,
   "metadata": {},
   "outputs": [],
   "source": [
    "species_dict = defaultdict()\n",
    "\n",
    "for fasta in fastas:\n",
    "    species = fasta.split('/')[-1].split('.')[0]\n",
    "    with open(fasta) as f:\n",
    "        for line in f:\n",
    "            if line.startswith('>'):\n",
    "                pass\n",
    "            else:\n",
    "                species_dict[species] += line.strip()"
   ]
  },
  {
   "cell_type": "code",
   "execution_count": null,
   "metadata": {},
   "outputs": [],
   "source": []
  },
  {
   "cell_type": "code",
   "execution_count": null,
   "metadata": {},
   "outputs": [],
   "source": []
  }
 ],
 "metadata": {
  "kernelspec": {
   "display_name": "py36",
   "language": "python",
   "name": "py36"
  },
  "language_info": {
   "codemirror_mode": {
    "name": "ipython",
    "version": 3
   },
   "file_extension": ".py",
   "mimetype": "text/x-python",
   "name": "python",
   "nbconvert_exporter": "python",
   "pygments_lexer": "ipython3",
   "version": "3.6.8"
  }
 },
 "nbformat": 4,
 "nbformat_minor": 2
}
