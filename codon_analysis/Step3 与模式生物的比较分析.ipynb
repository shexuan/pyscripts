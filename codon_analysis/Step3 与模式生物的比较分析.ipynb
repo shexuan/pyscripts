{
 "cells": [
  {
   "cell_type": "code",
   "execution_count": 1,
   "metadata": {},
   "outputs": [],
   "source": [
    "import os\n",
    "import pandas as pd\n",
    "import numpy as np"
   ]
  },
  {
   "cell_type": "markdown",
   "metadata": {},
   "source": [
    "（1）先从http://www.kazusa.or.jp/codon 下载模式生物的密码子偏好统计数据；\n",
    "\n",
    "（2）纠正格式。"
   ]
  },
  {
   "cell_type": "code",
   "execution_count": 9,
   "metadata": {},
   "outputs": [
    {
     "name": "stdout",
     "output_type": "stream",
     "text": [
      "UUU 21.8(678320)  UCU 25.2(782818)  UAU 14.6(455089)  UGU 10.5(327640)\n",
      "UUC 20.7(642407)  UCC 11.2(348173)  UAC 13.7(427132)  UGC  7.2(222769)\n",
      "UUA 12.7(394867)  UCA 18.3(568570)  UAA  0.9( 29405)  UGA  1.2( 36260)\n",
      "UUG 20.9(649150)  UCG  9.3(290158)  UAG  0.5( 16417)  UGG 12.5(388049)\n"
     ]
    }
   ],
   "source": [
    "!head -n 4 Compare_analysis/Arabidopsis_thaliana.txt"
   ]
  },
  {
   "cell_type": "code",
   "execution_count": 21,
   "metadata": {},
   "outputs": [
    {
     "data": {
      "text/plain": [
       "['Compare_analysis/Arabidopsis_thaliana.txt',\n",
       " 'Compare_analysis/Populus_trichocarpa.txt',\n",
       " 'Compare_analysis/Escherichia_coli.txt',\n",
       " 'Compare_analysis/Saccharomyces_cerevisiae.txt']"
      ]
     },
     "execution_count": 21,
     "metadata": {},
     "output_type": "execute_result"
    }
   ],
   "source": [
    "model_org_dir = 'Compare_analysis'\n",
    "my_org_dir = 'RSCU'\n",
    "\n",
    "model_orgs = [os.path.join(model_org_dir, f) for f in os.listdir(model_org_dir) \n",
    "                  if f.endswith('.txt')]\n",
    "my_orgs = [os.path.join(my_org_dir, f) for f in os.listdir(my_org_dir) \n",
    "                  if f.endswith('.txt')]\n",
    "\n",
    "model_orgs"
   ]
  },
  {
   "cell_type": "code",
   "execution_count": 50,
   "metadata": {},
   "outputs": [],
   "source": [
    "import re\n",
    "\n",
    "def parse_model_org(infile):\n",
    "    \"\"\"解析下载下来的模式物种数据\n",
    "    \"\"\"\n",
    "    codons = []\n",
    "    freq_kilo = []\n",
    "    numbers = []\n",
    "    with open(files[0]) as f:\n",
    "        for line in f:\n",
    "            if line.strip():\n",
    "                line = [i.strip().replace('U', 'T') for i in re.split(r'\\s+|\\(|\\)', \n",
    "                                                                      line.strip()) if i]\n",
    "                for idx in range(0, len(line), 3):\n",
    "                    codons.append(line[idx])\n",
    "                    \n",
    "                    freq_kilo.append(float(line[idx+1]))\n",
    "                    numbers.append(int(line[idx+2]))\n",
    "                    \n",
    "    df = pd.DataFrame({'Codon': codons, 'freq_kilo': freq_kilo})\n",
    "    \n",
    "    return df\n",
    "\n",
    "\n",
    "def parse_my_org(infile):\n",
    "    \"\"\"解析emboss上面计算得到的数据\n",
    "    \"\"\"\n",
    "    df = pd.read_csv(infile, comment='#', header=0, delimiter=r\"\\s+\")\n",
    "\n",
    "    # 生成氨基酸简称的对应关系\n",
    "    aa_tri = ['Gly', 'Ala', 'Val', 'Leu', 'Ile', 'Pro', 'Phe', 'Tyr', 'Trp', 'Ser', \n",
    "              'Thr', 'Cys', 'Met', 'Asn', 'Gln', 'Asp', 'Glu', 'Lys', 'Arg', 'His', 'Ter']\n",
    "    aa_sing = ['G', 'A', 'V', 'L', 'I', 'P', 'F', 'Y', 'W', 'S', 'T', 'C', 'M', 'N', 'Q', \n",
    "               'D', 'E', 'K', 'R', 'H', '*']\n",
    "    df_amino = pd.DataFrame({'Amino_acid':aa_tri, 'AA':aa_sing}).sort_values(by='AA')\n",
    "    df_merge = df.merge(df_amino, on='AA', how='inner')\n",
    "    \n",
    "    return df_merge[['Amino_acid', 'Codon', 'Frequency']]"
   ]
  },
  {
   "cell_type": "code",
   "execution_count": 51,
   "metadata": {},
   "outputs": [
    {
     "name": "stdout",
     "output_type": "stream",
     "text": [
      "floridulus--thaliana\n",
      "floridulus--trichocarpa\n",
      "floridulus--coli\n",
      "floridulus--cerevisiae\n",
      "giganteus--thaliana\n",
      "giganteus--trichocarpa\n",
      "giganteus--coli\n",
      "giganteus--cerevisiae\n",
      "sacchariflorus--thaliana\n",
      "sacchariflorus--trichocarpa\n",
      "sacchariflorus--coli\n",
      "sacchariflorus--cerevisiae\n",
      "sinensis--thaliana\n",
      "sinensis--trichocarpa\n",
      "sinensis--coli\n",
      "sinensis--cerevisiae\n",
      "transmorrisonensis--thaliana\n",
      "transmorrisonensis--trichocarpa\n",
      "transmorrisonensis--coli\n",
      "transmorrisonensis--cerevisiae\n",
      "spontaneum--thaliana\n",
      "spontaneum--trichocarpa\n",
      "spontaneum--coli\n",
      "spontaneum--cerevisiae\n",
      "bicolor--thaliana\n",
      "bicolor--trichocarpa\n",
      "bicolor--coli\n",
      "bicolor--cerevisiae\n"
     ]
    }
   ],
   "source": [
    "writer = pd.ExcelWriter('Step3_Compare_analysis.xlsx', engine='xlsxwriter')\n",
    "\n",
    "for forg in my_orgs:\n",
    "    my_species = forg.split('/')[-1].split('.')[0].split('_')[-1]\n",
    "    df_org = parse_my_org(forg)\n",
    "    for fm in model_orgs:\n",
    "        model_species = fm.split('/')[-1].split('.')[0].split('_')[-1]\n",
    "        name = my_species + '--' + model_species\n",
    "        print(name)\n",
    "        dfm = parse_model_org(fm)\n",
    "        df = df_org.merge(dfm, on='Codon', how='inner')\n",
    "        df['Ratio'] = df['Frequency']/df['freq_kilo']\n",
    "        df[['Amino_acid', 'Codon', 'Ratio']].to_excel(writer, \n",
    "                                                      sheet_name=name, \n",
    "                                                      index=False)\n",
    "writer.save()"
   ]
  },
  {
   "cell_type": "code",
   "execution_count": 52,
   "metadata": {},
   "outputs": [
    {
     "data": {
      "text/plain": [
       "21"
      ]
     },
     "execution_count": 52,
     "metadata": {},
     "output_type": "execute_result"
    }
   ],
   "source": [
    "len(set(df_org['Amino_acid']))"
   ]
  },
  {
   "cell_type": "code",
   "execution_count": 53,
   "metadata": {},
   "outputs": [
    {
     "data": {
      "text/plain": [
       "21"
      ]
     },
     "execution_count": 53,
     "metadata": {},
     "output_type": "execute_result"
    }
   ],
   "source": [
    "len(set(df['Amino_acid']))"
   ]
  },
  {
   "cell_type": "code",
   "execution_count": null,
   "metadata": {},
   "outputs": [],
   "source": []
  },
  {
   "cell_type": "code",
   "execution_count": null,
   "metadata": {},
   "outputs": [],
   "source": []
  },
  {
   "cell_type": "code",
   "execution_count": null,
   "metadata": {},
   "outputs": [],
   "source": []
  }
 ],
 "metadata": {
  "kernelspec": {
   "display_name": "py36",
   "language": "python",
   "name": "py36"
  },
  "language_info": {
   "codemirror_mode": {
    "name": "ipython",
    "version": 3
   },
   "file_extension": ".py",
   "mimetype": "text/x-python",
   "name": "python",
   "nbconvert_exporter": "python",
   "pygments_lexer": "ipython3",
   "version": "3.6.8"
  }
 },
 "nbformat": 4,
 "nbformat_minor": 2
}
